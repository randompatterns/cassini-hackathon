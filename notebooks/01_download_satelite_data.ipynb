{
 "cells": [
  {
   "cell_type": "code",
   "execution_count": 8,
   "id": "43953aac-5174-48d6-9dcf-85d0eae4e1a1",
   "metadata": {},
   "outputs": [
    {
     "name": "stdout",
     "output_type": "stream",
     "text": [
      "Collecting matplotlib\n",
      "  Downloading matplotlib-3.8.1-cp310-cp310-macosx_10_12_x86_64.whl (7.6 MB)\n",
      "\u001b[K     |████████████████████████████████| 7.6 MB 1.9 MB/s eta 0:00:01\n",
      "\u001b[?25hCollecting contourpy>=1.0.1\n",
      "  Downloading contourpy-1.2.0-cp310-cp310-macosx_10_9_x86_64.whl (256 kB)\n",
      "\u001b[K     |████████████████████████████████| 256 kB 2.6 MB/s eta 0:00:01\n",
      "\u001b[?25hCollecting fonttools>=4.22.0\n",
      "  Downloading fonttools-4.44.0-cp310-cp310-macosx_10_9_x86_64.whl (2.2 MB)\n",
      "\u001b[K     |████████████████████████████████| 2.2 MB 2.4 MB/s eta 0:00:01\n",
      "\u001b[?25hRequirement already satisfied: packaging>=20.0 in ./venv/lib/python3.10/site-packages (from matplotlib) (23.2)\n",
      "Collecting kiwisolver>=1.3.1\n",
      "  Downloading kiwisolver-1.4.5-cp310-cp310-macosx_10_9_x86_64.whl (68 kB)\n",
      "\u001b[K     |████████████████████████████████| 68 kB 3.3 MB/s eta 0:00:01\n",
      "\u001b[?25hRequirement already satisfied: python-dateutil>=2.7 in ./venv/lib/python3.10/site-packages (from matplotlib) (2.8.2)\n",
      "Collecting pillow>=8\n",
      "  Downloading Pillow-10.1.0-cp310-cp310-macosx_10_10_x86_64.whl (3.5 MB)\n",
      "\u001b[K     |████████████████████████████████| 3.5 MB 3.7 MB/s eta 0:00:01\n",
      "\u001b[?25hCollecting cycler>=0.10\n",
      "  Downloading cycler-0.12.1-py3-none-any.whl (8.3 kB)\n",
      "Requirement already satisfied: pyparsing>=2.3.1 in ./venv/lib/python3.10/site-packages (from matplotlib) (3.1.1)\n",
      "Requirement already satisfied: numpy<2,>=1.21 in ./venv/lib/python3.10/site-packages (from matplotlib) (1.26.1)\n",
      "Requirement already satisfied: six>=1.5 in ./venv/lib/python3.10/site-packages (from python-dateutil>=2.7->matplotlib) (1.16.0)\n",
      "Installing collected packages: pillow, kiwisolver, fonttools, cycler, contourpy, matplotlib\n",
      "Successfully installed contourpy-1.2.0 cycler-0.12.1 fonttools-4.44.0 kiwisolver-1.4.5 matplotlib-3.8.1 pillow-10.1.0\n",
      "\u001b[33mWARNING: You are using pip version 21.2.3; however, version 23.3.1 is available.\n",
      "You should consider upgrading via the '/Users/krzysztofpraca/Projects/hackathon-2023/venv/bin/python3 -m pip install --upgrade pip' command.\u001b[0m\n"
     ]
    }
   ],
   "source": [
    "#!pip install openeo\n",
    "#!pip install rasterio\n",
    "\n",
    "!pip install matplotlib"
   ]
  },
  {
   "cell_type": "code",
   "execution_count": 126,
   "id": "60c574c6-f3b7-446f-84cf-3c17d33caff9",
   "metadata": {},
   "outputs": [],
   "source": [
    "import openeo\n",
    "import rasterio\n",
    "import numpy as np\n",
    "from matplotlib import pyplot as plt\n",
    "\n",
    "from openeo.processes import ProcessBuilder"
   ]
  },
  {
   "cell_type": "code",
   "execution_count": 51,
   "id": "8272c14d-bb4e-425b-98ba-488c1fa64159",
   "metadata": {},
   "outputs": [
    {
     "name": "stdout",
     "output_type": "stream",
     "text": [
      "Authenticated using refresh token.\n"
     ]
    }
   ],
   "source": [
    "connection = openeo.connect(\"openeo.dataspace.copernicus.eu\").authenticate_oidc()"
   ]
  },
  {
   "cell_type": "code",
   "execution_count": null,
   "id": "0e44919a-258c-4491-9438-cb4586224651",
   "metadata": {},
   "outputs": [],
   "source": []
  },
  {
   "cell_type": "code",
   "execution_count": null,
   "id": "2868a259-ae92-4ec0-8dae-3483b1e95e1d",
   "metadata": {},
   "outputs": [],
   "source": []
  },
  {
   "cell_type": "code",
   "execution_count": 123,
   "id": "5000f1da-14b6-4e11-b392-2bbff63860cc",
   "metadata": {},
   "outputs": [
    {
     "ename": "ValueError",
     "evalue": "Invalid band name/index 'oainfon'. Valid names: ['B01', 'B02', 'B03', 'B04', 'B05', 'B06', 'B07', 'B08', 'B8A', 'B09', 'B11', 'B12', 'WVP', 'AOT', 'SCL', 'sunAzimuthAngles', 'sunZenithAngles', 'viewAzimuthMean', 'viewZenithMean']",
     "output_type": "error",
     "traceback": [
      "\u001b[0;31m---------------------------------------------------------------------------\u001b[0m",
      "\u001b[0;31mValueError\u001b[0m                                Traceback (most recent call last)",
      "Cell \u001b[0;32mIn[123], line 2\u001b[0m\n\u001b[1;32m      1\u001b[0m \u001b[38;5;66;03m# Load data cube from TERRASCOPE_S2_NDVI_V2 collection.\u001b[39;00m\n\u001b[0;32m----> 2\u001b[0m cube \u001b[38;5;241m=\u001b[39m \u001b[43mconnection\u001b[49m\u001b[38;5;241;43m.\u001b[39;49m\u001b[43mload_collection\u001b[49m\u001b[43m(\u001b[49m\n\u001b[1;32m      3\u001b[0m \u001b[43m    \u001b[49m\u001b[38;5;124;43m\"\u001b[39;49m\u001b[38;5;124;43mSENTINEL2_L2A\u001b[39;49m\u001b[38;5;124;43m\"\u001b[39;49m\u001b[43m,\u001b[49m\n\u001b[1;32m      4\u001b[0m \u001b[43m    \u001b[49m\u001b[43mspatial_extent\u001b[49m\u001b[38;5;241;43m=\u001b[39;49m\u001b[43m{\u001b[49m\u001b[38;5;124;43m\"\u001b[39;49m\u001b[38;5;124;43mwest\u001b[39;49m\u001b[38;5;124;43m\"\u001b[39;49m\u001b[43m:\u001b[49m\u001b[43m \u001b[49m\u001b[38;5;241;43m20.95\u001b[39;49m\u001b[43m,\u001b[49m\u001b[43m \u001b[49m\u001b[38;5;124;43m\"\u001b[39;49m\u001b[38;5;124;43msouth\u001b[39;49m\u001b[38;5;124;43m\"\u001b[39;49m\u001b[43m:\u001b[49m\u001b[43m \u001b[49m\u001b[38;5;241;43m52.05\u001b[39;49m\u001b[43m,\u001b[49m\u001b[43m \u001b[49m\u001b[38;5;124;43m\"\u001b[39;49m\u001b[38;5;124;43meast\u001b[39;49m\u001b[38;5;124;43m\"\u001b[39;49m\u001b[43m:\u001b[49m\u001b[43m \u001b[49m\u001b[38;5;241;43m21.05\u001b[39;49m\u001b[43m,\u001b[49m\u001b[43m \u001b[49m\u001b[38;5;124;43m\"\u001b[39;49m\u001b[38;5;124;43mnorth\u001b[39;49m\u001b[38;5;124;43m\"\u001b[39;49m\u001b[43m:\u001b[49m\u001b[43m \u001b[49m\u001b[38;5;241;43m52.15\u001b[39;49m\u001b[43m}\u001b[49m\u001b[43m,\u001b[49m\n\u001b[1;32m      5\u001b[0m \u001b[43m    \u001b[49m\u001b[43mtemporal_extent\u001b[49m\u001b[38;5;241;43m=\u001b[39;49m\u001b[43m[\u001b[49m\u001b[38;5;124;43m\"\u001b[39;49m\u001b[38;5;124;43m2023-05-01\u001b[39;49m\u001b[38;5;124;43m\"\u001b[39;49m\u001b[43m,\u001b[49m\u001b[43m \u001b[49m\u001b[38;5;124;43m\"\u001b[39;49m\u001b[38;5;124;43m2023-07-30\u001b[39;49m\u001b[38;5;124;43m\"\u001b[39;49m\u001b[43m]\u001b[49m\u001b[43m,\u001b[49m\n\u001b[1;32m      6\u001b[0m \u001b[43m    \u001b[49m\u001b[43mbands\u001b[49m\u001b[38;5;241;43m=\u001b[39;49m\u001b[43m[\u001b[49m\u001b[38;5;124;43m'\u001b[39;49m\u001b[38;5;124;43moainfon\u001b[39;49m\u001b[38;5;124;43m'\u001b[39;49m\u001b[43m]\u001b[49m\u001b[43m,\u001b[49m\n\u001b[1;32m      7\u001b[0m \u001b[43m)\u001b[49m\n\u001b[1;32m      9\u001b[0m evi_aggregation \u001b[38;5;241m=\u001b[39m cube\u001b[38;5;241m.\u001b[39maggregate_spatial(\n\u001b[1;32m     10\u001b[0m     reducer\u001b[38;5;241m=\u001b[39m\u001b[38;5;124m\"\u001b[39m\u001b[38;5;124mmean\u001b[39m\u001b[38;5;124m\"\u001b[39m,\n\u001b[1;32m     11\u001b[0m )\n\u001b[1;32m     13\u001b[0m evi_aggregation\u001b[38;5;241m.\u001b[39mdownload(\u001b[38;5;124m\"\u001b[39m\u001b[38;5;124mprocessed.tiff\u001b[39m\u001b[38;5;124m\"\u001b[39m)\n",
      "File \u001b[0;32m~/Projects/hackathon-2023/venv/lib/python3.10/site-packages/openeo/rest/connection.py:1169\u001b[0m, in \u001b[0;36mConnection.load_collection\u001b[0;34m(self, collection_id, spatial_extent, temporal_extent, bands, properties, max_cloud_cover, fetch_metadata)\u001b[0m\n\u001b[1;32m   1138\u001b[0m \u001b[38;5;129m@openeo_process\u001b[39m\n\u001b[1;32m   1139\u001b[0m \u001b[38;5;28;01mdef\u001b[39;00m \u001b[38;5;21mload_collection\u001b[39m(\n\u001b[1;32m   1140\u001b[0m     \u001b[38;5;28mself\u001b[39m,\n\u001b[0;32m   (...)\u001b[0m\n\u001b[1;32m   1147\u001b[0m     fetch_metadata\u001b[38;5;241m=\u001b[39m\u001b[38;5;28;01mTrue\u001b[39;00m,\n\u001b[1;32m   1148\u001b[0m ) \u001b[38;5;241m-\u001b[39m\u001b[38;5;241m>\u001b[39m DataCube:\n\u001b[1;32m   1149\u001b[0m \u001b[38;5;250m    \u001b[39m\u001b[38;5;124;03m\"\"\"\u001b[39;00m\n\u001b[1;32m   1150\u001b[0m \u001b[38;5;124;03m    Load a DataCube by collection id.\u001b[39;00m\n\u001b[1;32m   1151\u001b[0m \n\u001b[0;32m   (...)\u001b[0m\n\u001b[1;32m   1167\u001b[0m \u001b[38;5;124;03m        as discussed at :ref:`date-shorthand-handling`.\u001b[39;00m\n\u001b[1;32m   1168\u001b[0m \u001b[38;5;124;03m    \"\"\"\u001b[39;00m\n\u001b[0;32m-> 1169\u001b[0m     \u001b[38;5;28;01mreturn\u001b[39;00m \u001b[43mDataCube\u001b[49m\u001b[38;5;241;43m.\u001b[39;49m\u001b[43mload_collection\u001b[49m\u001b[43m(\u001b[49m\n\u001b[1;32m   1170\u001b[0m \u001b[43m        \u001b[49m\u001b[43mcollection_id\u001b[49m\u001b[38;5;241;43m=\u001b[39;49m\u001b[43mcollection_id\u001b[49m\u001b[43m,\u001b[49m\n\u001b[1;32m   1171\u001b[0m \u001b[43m        \u001b[49m\u001b[43mconnection\u001b[49m\u001b[38;5;241;43m=\u001b[39;49m\u001b[38;5;28;43mself\u001b[39;49m\u001b[43m,\u001b[49m\n\u001b[1;32m   1172\u001b[0m \u001b[43m        \u001b[49m\u001b[43mspatial_extent\u001b[49m\u001b[38;5;241;43m=\u001b[39;49m\u001b[43mspatial_extent\u001b[49m\u001b[43m,\u001b[49m\n\u001b[1;32m   1173\u001b[0m \u001b[43m        \u001b[49m\u001b[43mtemporal_extent\u001b[49m\u001b[38;5;241;43m=\u001b[39;49m\u001b[43mtemporal_extent\u001b[49m\u001b[43m,\u001b[49m\n\u001b[1;32m   1174\u001b[0m \u001b[43m        \u001b[49m\u001b[43mbands\u001b[49m\u001b[38;5;241;43m=\u001b[39;49m\u001b[43mbands\u001b[49m\u001b[43m,\u001b[49m\n\u001b[1;32m   1175\u001b[0m \u001b[43m        \u001b[49m\u001b[43mproperties\u001b[49m\u001b[38;5;241;43m=\u001b[39;49m\u001b[43mproperties\u001b[49m\u001b[43m,\u001b[49m\n\u001b[1;32m   1176\u001b[0m \u001b[43m        \u001b[49m\u001b[43mmax_cloud_cover\u001b[49m\u001b[38;5;241;43m=\u001b[39;49m\u001b[43mmax_cloud_cover\u001b[49m\u001b[43m,\u001b[49m\n\u001b[1;32m   1177\u001b[0m \u001b[43m        \u001b[49m\u001b[43mfetch_metadata\u001b[49m\u001b[38;5;241;43m=\u001b[39;49m\u001b[43mfetch_metadata\u001b[49m\u001b[43m,\u001b[49m\n\u001b[1;32m   1178\u001b[0m \u001b[43m    \u001b[49m\u001b[43m)\u001b[49m\n",
      "File \u001b[0;32m~/Projects/hackathon-2023/venv/lib/python3.10/site-packages/openeo/rest/datacube.py:170\u001b[0m, in \u001b[0;36mDataCube.load_collection\u001b[0;34m(cls, collection_id, connection, spatial_extent, temporal_extent, bands, fetch_metadata, properties, max_cloud_cover)\u001b[0m\n\u001b[1;32m    168\u001b[0m     \u001b[38;5;28;01mif\u001b[39;00m metadata:\n\u001b[1;32m    169\u001b[0m         bands \u001b[38;5;241m=\u001b[39m [b \u001b[38;5;28;01mif\u001b[39;00m \u001b[38;5;28misinstance\u001b[39m(b, \u001b[38;5;28mstr\u001b[39m) \u001b[38;5;28;01melse\u001b[39;00m metadata\u001b[38;5;241m.\u001b[39mband_dimension\u001b[38;5;241m.\u001b[39mband_name(b) \u001b[38;5;28;01mfor\u001b[39;00m b \u001b[38;5;129;01min\u001b[39;00m bands]\n\u001b[0;32m--> 170\u001b[0m         metadata \u001b[38;5;241m=\u001b[39m \u001b[43mmetadata\u001b[49m\u001b[38;5;241;43m.\u001b[39;49m\u001b[43mfilter_bands\u001b[49m\u001b[43m(\u001b[49m\u001b[43mbands\u001b[49m\u001b[43m)\u001b[49m\n\u001b[1;32m    171\u001b[0m     arguments[\u001b[38;5;124m'\u001b[39m\u001b[38;5;124mbands\u001b[39m\u001b[38;5;124m'\u001b[39m] \u001b[38;5;241m=\u001b[39m bands\n\u001b[1;32m    172\u001b[0m \u001b[38;5;28;01mif\u001b[39;00m max_cloud_cover:\n",
      "File \u001b[0;32m~/Projects/hackathon-2023/venv/lib/python3.10/site-packages/openeo/metadata.py:404\u001b[0m, in \u001b[0;36mCollectionMetadata.filter_bands\u001b[0;34m(self, band_names)\u001b[0m\n\u001b[1;32m    398\u001b[0m \u001b[38;5;250m\u001b[39m\u001b[38;5;124;03m\"\"\"\u001b[39;00m\n\u001b[1;32m    399\u001b[0m \u001b[38;5;124;03mCreate new `CollectionMetadata` with filtered band dimension\u001b[39;00m\n\u001b[1;32m    400\u001b[0m \u001b[38;5;124;03m:param band_names: list of band names/indices to keep\u001b[39;00m\n\u001b[1;32m    401\u001b[0m \u001b[38;5;124;03m:return:\u001b[39;00m\n\u001b[1;32m    402\u001b[0m \u001b[38;5;124;03m\"\"\"\u001b[39;00m\n\u001b[1;32m    403\u001b[0m \u001b[38;5;28;01massert\u001b[39;00m \u001b[38;5;28mself\u001b[39m\u001b[38;5;241m.\u001b[39mband_dimension\n\u001b[0;32m--> 404\u001b[0m \u001b[38;5;28;01mreturn\u001b[39;00m \u001b[38;5;28mself\u001b[39m\u001b[38;5;241m.\u001b[39m_clone_and_update(dimensions\u001b[38;5;241m=\u001b[39m[\n\u001b[1;32m    405\u001b[0m     d\u001b[38;5;241m.\u001b[39mfilter_bands(band_names) \u001b[38;5;28;01mif\u001b[39;00m \u001b[38;5;28misinstance\u001b[39m(d, BandDimension) \u001b[38;5;28;01melse\u001b[39;00m d\n\u001b[1;32m    406\u001b[0m     \u001b[38;5;28;01mfor\u001b[39;00m d \u001b[38;5;129;01min\u001b[39;00m \u001b[38;5;28mself\u001b[39m\u001b[38;5;241m.\u001b[39m_dimensions\n\u001b[1;32m    407\u001b[0m ])\n",
      "File \u001b[0;32m~/Projects/hackathon-2023/venv/lib/python3.10/site-packages/openeo/metadata.py:405\u001b[0m, in \u001b[0;36m<listcomp>\u001b[0;34m(.0)\u001b[0m\n\u001b[1;32m    398\u001b[0m \u001b[38;5;250m\u001b[39m\u001b[38;5;124;03m\"\"\"\u001b[39;00m\n\u001b[1;32m    399\u001b[0m \u001b[38;5;124;03mCreate new `CollectionMetadata` with filtered band dimension\u001b[39;00m\n\u001b[1;32m    400\u001b[0m \u001b[38;5;124;03m:param band_names: list of band names/indices to keep\u001b[39;00m\n\u001b[1;32m    401\u001b[0m \u001b[38;5;124;03m:return:\u001b[39;00m\n\u001b[1;32m    402\u001b[0m \u001b[38;5;124;03m\"\"\"\u001b[39;00m\n\u001b[1;32m    403\u001b[0m \u001b[38;5;28;01massert\u001b[39;00m \u001b[38;5;28mself\u001b[39m\u001b[38;5;241m.\u001b[39mband_dimension\n\u001b[1;32m    404\u001b[0m \u001b[38;5;28;01mreturn\u001b[39;00m \u001b[38;5;28mself\u001b[39m\u001b[38;5;241m.\u001b[39m_clone_and_update(dimensions\u001b[38;5;241m=\u001b[39m[\n\u001b[0;32m--> 405\u001b[0m     \u001b[43md\u001b[49m\u001b[38;5;241;43m.\u001b[39;49m\u001b[43mfilter_bands\u001b[49m\u001b[43m(\u001b[49m\u001b[43mband_names\u001b[49m\u001b[43m)\u001b[49m \u001b[38;5;28;01mif\u001b[39;00m \u001b[38;5;28misinstance\u001b[39m(d, BandDimension) \u001b[38;5;28;01melse\u001b[39;00m d\n\u001b[1;32m    406\u001b[0m     \u001b[38;5;28;01mfor\u001b[39;00m d \u001b[38;5;129;01min\u001b[39;00m \u001b[38;5;28mself\u001b[39m\u001b[38;5;241m.\u001b[39m_dimensions\n\u001b[1;32m    407\u001b[0m ])\n",
      "File \u001b[0;32m~/Projects/hackathon-2023/venv/lib/python3.10/site-packages/openeo/metadata.py:166\u001b[0m, in \u001b[0;36mBandDimension.filter_bands\u001b[0;34m(self, bands)\u001b[0m\n\u001b[1;32m    159\u001b[0m \u001b[38;5;28;01mdef\u001b[39;00m \u001b[38;5;21mfilter_bands\u001b[39m(\u001b[38;5;28mself\u001b[39m, bands: List[Union[\u001b[38;5;28mint\u001b[39m, \u001b[38;5;28mstr\u001b[39m]]) \u001b[38;5;241m-\u001b[39m\u001b[38;5;241m>\u001b[39m BandDimension:\n\u001b[1;32m    160\u001b[0m \u001b[38;5;250m    \u001b[39m\u001b[38;5;124;03m\"\"\"\u001b[39;00m\n\u001b[1;32m    161\u001b[0m \u001b[38;5;124;03m    Construct new BandDimension with subset of bands,\u001b[39;00m\n\u001b[1;32m    162\u001b[0m \u001b[38;5;124;03m    based on given band indices or (common) names\u001b[39;00m\n\u001b[1;32m    163\u001b[0m \u001b[38;5;124;03m    \"\"\"\u001b[39;00m\n\u001b[1;32m    164\u001b[0m     \u001b[38;5;28;01mreturn\u001b[39;00m BandDimension(\n\u001b[1;32m    165\u001b[0m         name\u001b[38;5;241m=\u001b[39m\u001b[38;5;28mself\u001b[39m\u001b[38;5;241m.\u001b[39mname,\n\u001b[0;32m--> 166\u001b[0m         bands\u001b[38;5;241m=\u001b[39m[\u001b[38;5;28mself\u001b[39m\u001b[38;5;241m.\u001b[39mbands[\u001b[38;5;28mself\u001b[39m\u001b[38;5;241m.\u001b[39mband_index(b)] \u001b[38;5;28;01mfor\u001b[39;00m b \u001b[38;5;129;01min\u001b[39;00m bands]\n\u001b[1;32m    167\u001b[0m     )\n",
      "File \u001b[0;32m~/Projects/hackathon-2023/venv/lib/python3.10/site-packages/openeo/metadata.py:166\u001b[0m, in \u001b[0;36m<listcomp>\u001b[0;34m(.0)\u001b[0m\n\u001b[1;32m    159\u001b[0m \u001b[38;5;28;01mdef\u001b[39;00m \u001b[38;5;21mfilter_bands\u001b[39m(\u001b[38;5;28mself\u001b[39m, bands: List[Union[\u001b[38;5;28mint\u001b[39m, \u001b[38;5;28mstr\u001b[39m]]) \u001b[38;5;241m-\u001b[39m\u001b[38;5;241m>\u001b[39m BandDimension:\n\u001b[1;32m    160\u001b[0m \u001b[38;5;250m    \u001b[39m\u001b[38;5;124;03m\"\"\"\u001b[39;00m\n\u001b[1;32m    161\u001b[0m \u001b[38;5;124;03m    Construct new BandDimension with subset of bands,\u001b[39;00m\n\u001b[1;32m    162\u001b[0m \u001b[38;5;124;03m    based on given band indices or (common) names\u001b[39;00m\n\u001b[1;32m    163\u001b[0m \u001b[38;5;124;03m    \"\"\"\u001b[39;00m\n\u001b[1;32m    164\u001b[0m     \u001b[38;5;28;01mreturn\u001b[39;00m BandDimension(\n\u001b[1;32m    165\u001b[0m         name\u001b[38;5;241m=\u001b[39m\u001b[38;5;28mself\u001b[39m\u001b[38;5;241m.\u001b[39mname,\n\u001b[0;32m--> 166\u001b[0m         bands\u001b[38;5;241m=\u001b[39m[\u001b[38;5;28mself\u001b[39m\u001b[38;5;241m.\u001b[39mbands[\u001b[38;5;28;43mself\u001b[39;49m\u001b[38;5;241;43m.\u001b[39;49m\u001b[43mband_index\u001b[49m\u001b[43m(\u001b[49m\u001b[43mb\u001b[49m\u001b[43m)\u001b[49m] \u001b[38;5;28;01mfor\u001b[39;00m b \u001b[38;5;129;01min\u001b[39;00m bands]\n\u001b[1;32m    167\u001b[0m     )\n",
      "File \u001b[0;32m~/Projects/hackathon-2023/venv/lib/python3.10/site-packages/openeo/metadata.py:141\u001b[0m, in \u001b[0;36mBandDimension.band_index\u001b[0;34m(self, band)\u001b[0m\n\u001b[1;32m    139\u001b[0m     \u001b[38;5;28;01mif\u001b[39;00m \u001b[38;5;28many\u001b[39m(aliases):\n\u001b[1;32m    140\u001b[0m         \u001b[38;5;28;01mreturn\u001b[39;00m aliases\u001b[38;5;241m.\u001b[39mindex(\u001b[38;5;28;01mTrue\u001b[39;00m)\n\u001b[0;32m--> 141\u001b[0m \u001b[38;5;28;01mraise\u001b[39;00m \u001b[38;5;167;01mValueError\u001b[39;00m(\u001b[38;5;124m\"\u001b[39m\u001b[38;5;124mInvalid band name/index \u001b[39m\u001b[38;5;132;01m{b!r}\u001b[39;00m\u001b[38;5;124m. Valid names: \u001b[39m\u001b[38;5;132;01m{n!r}\u001b[39;00m\u001b[38;5;124m\"\u001b[39m\u001b[38;5;241m.\u001b[39mformat(b\u001b[38;5;241m=\u001b[39mband, n\u001b[38;5;241m=\u001b[39mband_names))\n",
      "\u001b[0;31mValueError\u001b[0m: Invalid band name/index 'oainfon'. Valid names: ['B01', 'B02', 'B03', 'B04', 'B05', 'B06', 'B07', 'B08', 'B8A', 'B09', 'B11', 'B12', 'WVP', 'AOT', 'SCL', 'sunAzimuthAngles', 'sunZenithAngles', 'viewAzimuthMean', 'viewZenithMean']"
     ]
    }
   ],
   "source": [
    "# Load data cube from TERRASCOPE_S2_NDVI_V2 collection.\n",
    "cube = connection.load_collection(\n",
    "    \"SENTINEL2_L2A\",\n",
    "    spatial_extent={\"west\": 20.95, \"south\": 52.05, \"east\": 21.05, \"north\": 52.15},\n",
    "    temporal_extent=[\"2023-05-01\", \"2023-07-30\"],\n",
    "    bands=['oainfon'],\n",
    ")\n",
    "\n",
    "evi_aggregation = cube.aggregate_spatial(\n",
    "    reducer=\"mean\",\n",
    ")\n",
    "\n",
    "evi_aggregation.download(\"processed.tiff\")"
   ]
  },
  {
   "cell_type": "code",
   "execution_count": 53,
   "id": "d0646278-ce63-412d-9fe6-3c7cecfdb372",
   "metadata": {},
   "outputs": [],
   "source": [
    "with rasterio.open('ndvi-max.tiff') as fp:\n",
    "    img = fp.read()"
   ]
  },
  {
   "cell_type": "code",
   "execution_count": 54,
   "id": "00f281cd-f4e7-472c-b5f1-55b48da021b0",
   "metadata": {},
   "outputs": [
    {
     "data": {
      "text/plain": [
       "<matplotlib.image.AxesImage at 0x118cc9150>"
      ]
     },
     "execution_count": 54,
     "metadata": {},
     "output_type": "execute_result"
    },
    {
     "data": {
      "image/png": "[encoded data removed]",
      "text/plain": [
       "<Figure size 640x480 with 1 Axes>"
      ]
     },
     "metadata": {},
     "output_type": "display_data"
    }
   ],
   "source": [
    "plt.imshow(np.moveaxis(img, [0, 1, 2], [2, 0, 1]) / img.max())"
   ]
  },
  {
   "cell_type": "code",
   "execution_count": 50,
   "id": "e76ff933-fcb6-4ce8-b1fa-cd3758577899",
   "metadata": {},
   "outputs": [
    {
     "data": {
      "text/plain": [
       "(1, 1113, 686)"
      ]
     },
     "execution_count": 50,
     "metadata": {},
     "output_type": "execute_result"
    }
   ],
   "source": [
    "img.shape"
   ]
  },
  {
   "cell_type": "code",
   "execution_count": 125,
   "id": "5eebbe12-89d1-4a43-bff3-958522f84182",
   "metadata": {},
   "outputs": [
    {
     "data": {
      "text/plain": [
       "\u001b[0;31mSignature:\u001b[0m\n",
       "\u001b[0mcube\u001b[0m\u001b[0;34m.\u001b[0m\u001b[0mapply\u001b[0m\u001b[0;34m(\u001b[0m\u001b[0;34m\u001b[0m\n",
       "\u001b[0;34m\u001b[0m    \u001b[0mprocess\u001b[0m\u001b[0;34m:\u001b[0m \u001b[0;34m'Union[str, typing.Callable, UDF, PGNode]'\u001b[0m\u001b[0;34m,\u001b[0m\u001b[0;34m\u001b[0m\n",
       "\u001b[0;34m\u001b[0m    \u001b[0mcontext\u001b[0m\u001b[0;34m:\u001b[0m \u001b[0;34m'Optional[dict]'\u001b[0m \u001b[0;34m=\u001b[0m \u001b[0;32mNone\u001b[0m\u001b[0;34m,\u001b[0m\u001b[0;34m\u001b[0m\n",
       "\u001b[0;34m\u001b[0m\u001b[0;34m)\u001b[0m \u001b[0;34m->\u001b[0m \u001b[0;34m'DataCube'\u001b[0m\u001b[0;34m\u001b[0m\u001b[0;34m\u001b[0m\u001b[0m\n",
       "\u001b[0;31mDocstring:\u001b[0m\n",
       "Applies a unary process (a local operation) to each value of the specified or all dimensions in the data cube.\n",
       "\n",
       ":param process: the \"child callback\":\n",
       "    the name of a single process,\n",
       "    or a callback function as discussed in :ref:`callbackfunctions`,\n",
       "    or a :py:class:`UDF <openeo.rest._datacube.UDF>` instance.\n",
       "\n",
       "    The callback should correspond to a process that\n",
       "    receives a single numerical value\n",
       "    and returns a single numerical value.\n",
       "    For example:\n",
       "\n",
       "    -   ``\"absolute\"`` (string)\n",
       "    -   :py:func:`absolute <openeo.processes.absolute>` (:ref:`predefined openEO process function <openeo_processes_functions>`)\n",
       "    -   ``lambda x: x * 2 + 3`` (function or lambda)\n",
       "\n",
       ":param context: Additional data to be passed to the process.\n",
       "\n",
       ":return: A data cube with the newly computed values. The resolution, cardinality and the number of dimensions are the same as for the original data cube.\n",
       "\n",
       "\n",
       ".. seealso:: openeo.org documentation on `process \"apply\" <https://processes.openeo.org/#apply>`_.\n",
       "\u001b[0;31mFile:\u001b[0m      ~/Projects/hackathon-2023/venv/lib/python3.10/site-packages/openeo/rest/datacube.py\n",
       "\u001b[0;31mType:\u001b[0m      method"
      ]
     },
     "metadata": {},
     "output_type": "display_data"
    }
   ],
   "source": [
    "cube.apply?"
   ]
  },
  {
   "cell_type": "code",
   "execution_count": 129,
   "id": "f8a18337-3f25-440e-a951-1fc43d9bc3e6",
   "metadata": {},
   "outputs": [
    {
     "data": {
      "text/plain": [
       "\u001b[0;31mInit signature:\u001b[0m\n",
       "\u001b[0mProcessBuilder\u001b[0m\u001b[0;34m(\u001b[0m\u001b[0;34m\u001b[0m\n",
       "\u001b[0;34m\u001b[0m    \u001b[0mpgnode\u001b[0m\u001b[0;34m:\u001b[0m \u001b[0mUnion\u001b[0m\u001b[0;34m[\u001b[0m\u001b[0mopeneo\u001b[0m\u001b[0;34m.\u001b[0m\u001b[0minternal\u001b[0m\u001b[0;34m.\u001b[0m\u001b[0mgraph_building\u001b[0m\u001b[0;34m.\u001b[0m\u001b[0mPGNode\u001b[0m\u001b[0;34m,\u001b[0m \u001b[0mdict\u001b[0m\u001b[0;34m,\u001b[0m \u001b[0mlist\u001b[0m\u001b[0;34m]\u001b[0m\u001b[0;34m,\u001b[0m\u001b[0;34m\u001b[0m\n",
       "\u001b[0;34m\u001b[0m\u001b[0;34m)\u001b[0m\u001b[0;34m\u001b[0m\u001b[0;34m\u001b[0m\u001b[0m\n",
       "\u001b[0;31mDocstring:\u001b[0m      .. include:: api-processbuilder.rst\n",
       "\u001b[0;31mFile:\u001b[0m           ~/Projects/hackathon-2023/venv/lib/python3.10/site-packages/openeo/processes.py\n",
       "\u001b[0;31mType:\u001b[0m           ABCMeta\n",
       "\u001b[0;31mSubclasses:\u001b[0m     "
      ]
     },
     "metadata": {},
     "output_type": "display_data"
    }
   ],
   "source": [
    "ProcessBuilder?"
   ]
  },
  {
   "cell_type": "code",
   "execution_count": 56,
   "id": "819d8af3-5a16-49d3-9847-16296aa3901e",
   "metadata": {},
   "outputs": [
    {
     "data": {
      "text/plain": [
       "\u001b[0;31mSignature:\u001b[0m\n",
       "\u001b[0mconnection\u001b[0m\u001b[0;34m.\u001b[0m\u001b[0mload_collection\u001b[0m\u001b[0;34m(\u001b[0m\u001b[0;34m\u001b[0m\n",
       "\u001b[0;34m\u001b[0m    \u001b[0mcollection_id\u001b[0m\u001b[0;34m:\u001b[0m \u001b[0;34m'Union[str, Parameter]'\u001b[0m\u001b[0;34m,\u001b[0m\u001b[0;34m\u001b[0m\n",
       "\u001b[0;34m\u001b[0m    \u001b[0mspatial_extent\u001b[0m\u001b[0;34m:\u001b[0m \u001b[0;34m'Optional[Dict[str, float]]'\u001b[0m \u001b[0;34m=\u001b[0m \u001b[0;32mNone\u001b[0m\u001b[0;34m,\u001b[0m\u001b[0;34m\u001b[0m\n",
       "\u001b[0;34m\u001b[0m    \u001b[0mtemporal_extent\u001b[0m\u001b[0;34m:\u001b[0m \u001b[0;34m'Union[Sequence[InputDate], Parameter, str, None]'\u001b[0m \u001b[0;34m=\u001b[0m \u001b[0;32mNone\u001b[0m\u001b[0;34m,\u001b[0m\u001b[0;34m\u001b[0m\n",
       "\u001b[0;34m\u001b[0m    \u001b[0mbands\u001b[0m\u001b[0;34m:\u001b[0m \u001b[0;34m'Union[None, List[str], Parameter]'\u001b[0m \u001b[0;34m=\u001b[0m \u001b[0;32mNone\u001b[0m\u001b[0;34m,\u001b[0m\u001b[0;34m\u001b[0m\n",
       "\u001b[0;34m\u001b[0m    \u001b[0mproperties\u001b[0m\u001b[0;34m:\u001b[0m \u001b[0;34m'Optional[Dict[str, Union[str, PGNode, Callable]]]'\u001b[0m \u001b[0;34m=\u001b[0m \u001b[0;32mNone\u001b[0m\u001b[0;34m,\u001b[0m\u001b[0;34m\u001b[0m\n",
       "\u001b[0;34m\u001b[0m    \u001b[0mmax_cloud_cover\u001b[0m\u001b[0;34m:\u001b[0m \u001b[0;34m'Optional[float]'\u001b[0m \u001b[0;34m=\u001b[0m \u001b[0;32mNone\u001b[0m\u001b[0;34m,\u001b[0m\u001b[0;34m\u001b[0m\n",
       "\u001b[0;34m\u001b[0m    \u001b[0mfetch_metadata\u001b[0m\u001b[0;34m=\u001b[0m\u001b[0;32mTrue\u001b[0m\u001b[0;34m,\u001b[0m\u001b[0;34m\u001b[0m\n",
       "\u001b[0;34m\u001b[0m\u001b[0;34m)\u001b[0m \u001b[0;34m->\u001b[0m \u001b[0;34m'DataCube'\u001b[0m\u001b[0;34m\u001b[0m\u001b[0;34m\u001b[0m\u001b[0m\n",
       "\u001b[0;31mDocstring:\u001b[0m\n",
       "Load a DataCube by collection id.\n",
       "\n",
       ":param collection_id: image collection identifier\n",
       ":param spatial_extent: limit data to specified bounding box or polygons\n",
       ":param temporal_extent: limit data to specified temporal interval.\n",
       "    Typically, just a two-item list or tuple containing start and end date.\n",
       "    See :ref:`filtering-on-temporal-extent-section` for more details on temporal extent handling and shorthand notation.\n",
       ":param bands: only add the specified bands\n",
       ":param properties: limit data by metadata property predicates\n",
       ":param max_cloud_cover: shortcut to set maximum cloud cover (\"eo:cloud_cover\" collection property)\n",
       ":return: a datacube containing the requested data\n",
       "\n",
       ".. versionadded:: 0.13.0\n",
       "    added the ``max_cloud_cover`` argument.\n",
       "\n",
       ".. versionchanged:: 0.23.0\n",
       "    Argument ``temporal_extent``: add support for year/month shorthand notation\n",
       "    as discussed at :ref:`date-shorthand-handling`.\n",
       "\n",
       "\n",
       ".. seealso:: openeo.org documentation on `process \"load_collection\" <https://processes.openeo.org/#load_collection>`_.\n",
       "\u001b[0;31mFile:\u001b[0m      ~/Projects/hackathon-2023/venv/lib/python3.10/site-packages/openeo/rest/connection.py\n",
       "\u001b[0;31mType:\u001b[0m      method"
      ]
     },
     "metadata": {},
     "output_type": "display_data"
    }
   ],
   "source": [
    "connection.load_collection?"
   ]
  },
  {
   "cell_type": "code",
   "execution_count": 62,
   "id": "4be38166-a3c0-4d79-8669-4dcaf2227ff7",
   "metadata": {},
   "outputs": [],
   "source": [
    "class City:\n",
    "    def __init__(self, name, lat, lng):\n",
    "        self.name = name\n",
    "        self.lat = lat\n",
    "        self.lng = lng\n",
    "\n",
    "    def get_spatial_extent(self, radius=0.2):\n",
    "        spatial_extent = {\n",
    "            \"west\": self.lng-radius, \n",
    "            \"south\": self.lat-radius, \n",
    "            \"east\": self.lng+radius, \n",
    "            \"north\": self.lat+radius\n",
    "        }\n",
    "        return spatial_extent\n",
    "\n",
    "    def get_features(self, radius=0.15):\n",
    "        features = {\n",
    "            \"type\": \"FeatureCollection\", \n",
    "            \"features\": [\n",
    "                {\n",
    "                    \"type\": \"Feature\", \n",
    "                    \"properties\": {},\n",
    "                    \"geometry\": {\n",
    "                        \"type\": \"Polygon\", \n",
    "                        \"coordinates\": [\n",
    "                            [\n",
    "                                [self.lat - radius, self.lng - radius], \n",
    "                                [self.lat + radius, self.lng - radius], \n",
    "                                [self.lat + radius, self.lng + radius], \n",
    "                                [self.lat - radius, self.lng + radius], \n",
    "                                [self.lat - radius, self.lng - radius]\n",
    "                            ]\n",
    "                        ]\n",
    "                    }\n",
    "                }\n",
    "            ]\n",
    "        }\n",
    "        return features"
   ]
  },
  {
   "cell_type": "code",
   "execution_count": 63,
   "id": "5057a469-eb30-4bd4-a47e-5a2b5d66c4be",
   "metadata": {},
   "outputs": [],
   "source": [
    "warsaw = City('Madrid', 52, 21)"
   ]
  },
  {
   "cell_type": "code",
   "execution_count": 78,
   "id": "69f3b188-eb4e-47d8-950c-3b86f8e63b24",
   "metadata": {},
   "outputs": [],
   "source": [
    "madrid = {\n",
    "    \"west\": -3.73,\n",
    "    \"south\": 40.39,\n",
    "    \"east\": -3.67,\n",
    "    \"north\": 40.43\n",
    "}"
   ]
  },
  {
   "cell_type": "code",
   "execution_count": 83,
   "id": "3ca1037e-7504-43b3-9c33-a812b8455605",
   "metadata": {},
   "outputs": [
    {
     "data": {
      "text/plain": [
       "-3.7"
      ]
     },
     "execution_count": 83,
     "metadata": {},
     "output_type": "execute_result"
    }
   ],
   "source": [
    "(madrid['east']+madrid['west']) / 2"
   ]
  },
  {
   "cell_type": "code",
   "execution_count": 84,
   "id": "d6822d06-20dc-4cec-924d-fa02c0ed280d",
   "metadata": {},
   "outputs": [
    {
     "data": {
      "text/plain": [
       "40.41"
      ]
     },
     "execution_count": 84,
     "metadata": {},
     "output_type": "execute_result"
    }
   ],
   "source": [
    "(madrid['north']+madrid['south'])/2"
   ]
  },
  {
   "cell_type": "code",
   "execution_count": 85,
   "id": "21faf9f8-81a4-432e-88b0-5a1673acd1d2",
   "metadata": {},
   "outputs": [],
   "source": [
    "madrid = City('Madrid', 40.41, -3.7)"
   ]
  },
  {
   "cell_type": "code",
   "execution_count": 90,
   "id": "2892cd93-5e57-430f-b010-d6dd4aad4147",
   "metadata": {
    "scrolled": true
   },
   "outputs": [],
   "source": [
    "# Load data cube from TERRASCOPE_S2_NDVI_V2 collection.\n",
    "cube = connection.load_collection(\n",
    "    \"SENTINEL2_L2A\",\n",
    "    spatial_extent=madrid.get_spatial_extent(0.08),\n",
    "    temporal_extent=[\"2023-07-01\", \"2023-07-31\"],\n",
    "    bands=['B04', 'B08'],\n",
    ")\n",
    "\n",
    "parsed = cube.aggregate_spatial(\n",
    "    geometries=madrid.get_features(0.05),\n",
    "    reducer=\"mean\",\n",
    ")"
   ]
  },
  {
   "cell_type": "code",
   "execution_count": 99,
   "id": "3384b078-72b5-4e8f-8ece-ed6192898887",
   "metadata": {},
   "outputs": [],
   "source": [
    "x = cube.band('B04') - cube.band('B08')"
   ]
  },
  {
   "cell_type": "code",
   "execution_count": 110,
   "id": "f2c335fc-5ad7-4a0e-a577-f0abf3c404c8",
   "metadata": {},
   "outputs": [],
   "source": [
    "new_cube = cube.add_dimension(name='Water', label='water', type='band')"
   ]
  },
  {
   "cell_type": "code",
   "execution_count": 120,
   "id": "c5823ce9-4cf2-4d86-99d6-abcb6a395831",
   "metadata": {},
   "outputs": [],
   "source": [
    "cube_with_ndvi = cube.ndvi(red='B04', nir='B08', target_band='ndvi')"
   ]
  },
  {
   "cell_type": "code",
   "execution_count": 122,
   "id": "203b6a32-14cd-4572-b249-5064c98825f9",
   "metadata": {},
   "outputs": [
    {
     "name": "stderr",
     "output_type": "stream",
     "text": [
      "Preflight process graph validation raised: [MissingProduct] Tile 'S2B_MSIL2A_20230702T105629_N0509_R094_T30TVK_20230702T122952' in collection 'SENTINEL2_L2A' is not available. [MissingProduct] Tile 'S2B_MSIL2A_20230705T110629_N0509_R137_T30TVK_20230705T123921' in collection 'SENTINEL2_L2A' is not available. [MissingProduct] Tile 'S2A_MSIL2A_20230707T105621_N0509_R094_T30TVK_20230707T171859' in collection 'SENTINEL2_L2A' is not available. [MissingProduct] Tile 'S2A_MSIL2A_20230710T110621_N0509_R137_T30TVK_20230710T172204' in collection 'SENTINEL2_L2A' is not available. [MissingProduct] Tile 'S2B_MSIL2A_20230712T105629_N0509_R094_T30TVK_20230712T123126' in collection 'SENTINEL2_L2A' is not available. [MissingProduct] Tile 'S2B_MSIL2A_20230715T110629_N0509_R137_T30TVK_20230715T124001' in collection 'SENTINEL2_L2A' is not available. [MissingProduct] Tile 'S2A_MSIL2A_20230717T105621_N0509_R094_T30TVK_20230717T185600' in collection 'SENTINEL2_L2A' is not available. [MissingProduct] Tile 'S2A_MSIL2A_20230720T110621_N0509_R137_T30TVK_20230720T170604' in collection 'SENTINEL2_L2A' is not available. [MissingProduct] Tile 'S2B_MSIL2A_20230722T105629_N0509_R094_T30TVK_20230722T123734' in collection 'SENTINEL2_L2A' is not available. [MissingProduct] Tile 'S2B_MSIL2A_20230725T110629_N0509_R137_T30TVK_20230725T140155' in collection 'SENTINEL2_L2A' is not available. [MissingProduct] Tile 'S2A_MSIL2A_20230727T105621_N0509_R094_T30TVK_20230727T183258' in collection 'SENTINEL2_L2A' is not available. [MissingProduct] Tile 'S2A_MSIL2A_20230730T110621_N0509_R137_T30TVK_20230730T172459' in collection 'SENTINEL2_L2A' is not available.\n"
     ]
    },
    {
     "name": "stdout",
     "output_type": "stream",
     "text": [
      "0:00:00 Job 'j-231103ff63e84430bd5a0198e4a3d3e6': send 'start'\n",
      "0:00:13 Job 'j-231103ff63e84430bd5a0198e4a3d3e6': running (progress N/A)\n",
      "0:00:18 Job 'j-231103ff63e84430bd5a0198e4a3d3e6': running (progress N/A)\n",
      "0:00:25 Job 'j-231103ff63e84430bd5a0198e4a3d3e6': running (progress N/A)\n",
      "0:00:33 Job 'j-231103ff63e84430bd5a0198e4a3d3e6': running (progress N/A)\n",
      "0:00:43 Job 'j-231103ff63e84430bd5a0198e4a3d3e6': running (progress N/A)\n",
      "0:00:55 Job 'j-231103ff63e84430bd5a0198e4a3d3e6': running (progress N/A)\n",
      "0:01:11 Job 'j-231103ff63e84430bd5a0198e4a3d3e6': running (progress N/A)\n",
      "0:01:30 Job 'j-231103ff63e84430bd5a0198e4a3d3e6': running (progress N/A)\n",
      "0:01:59 Job 'j-231103ff63e84430bd5a0198e4a3d3e6': running (progress N/A)\n",
      "0:02:30 Job 'j-231103ff63e84430bd5a0198e4a3d3e6': finished (progress N/A)\n"
     ]
    }
   ],
   "source": [
    "results = cube_with_ndvi.execute_batch()"
   ]
  },
  {
   "cell_type": "code",
   "execution_count": null,
   "id": "72c6daf1-1ced-451e-8bcf-07f8e09017bf",
   "metadata": {},
   "outputs": [],
   "source": []
  },
  {
   "cell_type": "code",
   "execution_count": 101,
   "id": "d55c0b73-2156-4b67-8240-9e36ef55f8aa",
   "metadata": {},
   "outputs": [
    {
     "name": "stderr",
     "output_type": "stream",
     "text": [
      "Preflight process graph validation raised: [MissingProduct] Tile 'S2B_MSIL2A_20230702T105629_N0509_R094_T30TVK_20230702T122952' in collection 'SENTINEL2_L2A' is not available. [MissingProduct] Tile 'S2B_MSIL2A_20230705T110629_N0509_R137_T30TVK_20230705T123921' in collection 'SENTINEL2_L2A' is not available. [MissingProduct] Tile 'S2A_MSIL2A_20230707T105621_N0509_R094_T30TVK_20230707T171859' in collection 'SENTINEL2_L2A' is not available. [MissingProduct] Tile 'S2A_MSIL2A_20230710T110621_N0509_R137_T30TVK_20230710T172204' in collection 'SENTINEL2_L2A' is not available. [MissingProduct] Tile 'S2B_MSIL2A_20230712T105629_N0509_R094_T30TVK_20230712T123126' in collection 'SENTINEL2_L2A' is not available. [MissingProduct] Tile 'S2B_MSIL2A_20230715T110629_N0509_R137_T30TVK_20230715T124001' in collection 'SENTINEL2_L2A' is not available. [MissingProduct] Tile 'S2A_MSIL2A_20230717T105621_N0509_R094_T30TVK_20230717T185600' in collection 'SENTINEL2_L2A' is not available. [MissingProduct] Tile 'S2A_MSIL2A_20230720T110621_N0509_R137_T30TVK_20230720T170604' in collection 'SENTINEL2_L2A' is not available. [MissingProduct] Tile 'S2B_MSIL2A_20230722T105629_N0509_R094_T30TVK_20230722T123734' in collection 'SENTINEL2_L2A' is not available. [MissingProduct] Tile 'S2B_MSIL2A_20230725T110629_N0509_R137_T30TVK_20230725T140155' in collection 'SENTINEL2_L2A' is not available. [MissingProduct] Tile 'S2A_MSIL2A_20230727T105621_N0509_R094_T30TVK_20230727T183258' in collection 'SENTINEL2_L2A' is not available. [MissingProduct] Tile 'S2A_MSIL2A_20230730T110621_N0509_R137_T30TVK_20230730T172459' in collection 'SENTINEL2_L2A' is not available.\n"
     ]
    },
    {
     "name": "stdout",
     "output_type": "stream",
     "text": [
      "0:00:00 Job 'j-231103ffc9304993bd56446921e88290': send 'start'\n",
      "0:00:12 Job 'j-231103ffc9304993bd56446921e88290': created (progress N/A)\n",
      "0:00:18 Job 'j-231103ffc9304993bd56446921e88290': created (progress N/A)\n",
      "0:00:24 Job 'j-231103ffc9304993bd56446921e88290': running (progress N/A)\n",
      "0:00:32 Job 'j-231103ffc9304993bd56446921e88290': running (progress N/A)\n",
      "0:00:43 Job 'j-231103ffc9304993bd56446921e88290': running (progress N/A)\n",
      "0:00:55 Job 'j-231103ffc9304993bd56446921e88290': running (progress N/A)\n",
      "0:01:11 Job 'j-231103ffc9304993bd56446921e88290': running (progress N/A)\n",
      "0:01:30 Job 'j-231103ffc9304993bd56446921e88290': running (progress N/A)\n",
      "0:01:54 Job 'j-231103ffc9304993bd56446921e88290': running (progress N/A)\n",
      "0:02:25 Job 'j-231103ffc9304993bd56446921e88290': finished (progress N/A)\n"
     ]
    },
    {
     "data": {
      "text/html": [
       "\n",
       "    <script>\n",
       "    if (!window.customElements || !window.customElements.get('openeo-job')) {\n",
       "        var el = document.createElement('script');\n",
       "        el.src = \"https://cdn.jsdelivr.net/npm/@openeo/vue-components@2/assets/openeo.min.js\";\n",
       "        document.head.appendChild(el);\n",
       "\n",
       "        var font = document.createElement('font');\n",
       "        font.as = \"font\";\n",
       "        font.type = \"font/woff2\";\n",
       "        font.crossOrigin = true;\n",
       "        font.href = \"https://use.fontawesome.com/releases/v5.13.0/webfonts/fa-solid-900.woff2\"\n",
       "        document.head.appendChild(font);\n",
       "    }\n",
       "    </script>\n",
       "    <openeo-job>\n",
       "        <script type=\"application/json\">{\"currency\": \"credits\", \"job\": {\"costs\": 0.0, \"created\": \"2023-11-03T23:15:52Z\", \"id\": \"j-231103ffc9304993bd56446921e88290\", \"process\": {\"process_graph\": {\"loadcollection1\": {\"arguments\": {\"bands\": [\"B04\", \"B08\"], \"id\": \"SENTINEL2_L2A\", \"spatial_extent\": {\"east\": -3.62, \"north\": 40.489999999999995, \"south\": 40.33, \"west\": -3.7800000000000002}, \"temporal_extent\": [\"2023-07-01\", \"2023-07-31\"]}, \"process_id\": \"load_collection\"}, \"reducedimension1\": {\"arguments\": {\"data\": {\"from_node\": \"loadcollection1\"}, \"dimension\": \"bands\", \"reducer\": {\"process_graph\": {\"arrayelement1\": {\"arguments\": {\"data\": {\"from_parameter\": \"data\"}, \"index\": 0}, \"process_id\": \"array_element\"}, \"arrayelement2\": {\"arguments\": {\"data\": {\"from_parameter\": \"data\"}, \"index\": 1}, \"process_id\": \"array_element\"}, \"subtract1\": {\"arguments\": {\"x\": {\"from_node\": \"arrayelement1\"}, \"y\": {\"from_node\": \"arrayelement2\"}}, \"process_id\": \"subtract\", \"result\": true}}}}, \"process_id\": \"reduce_dimension\"}, \"saveresult1\": {\"arguments\": {\"data\": {\"from_node\": \"reducedimension1\"}, \"format\": \"GTiff\", \"options\": {}}, \"process_id\": \"save_result\", \"result\": true}}}, \"status\": \"finished\", \"updated\": \"2023-11-03T23:15:52Z\", \"usage\": {\"duration\": {\"unit\": \"seconds\", \"value\": 98}, \"input_pixel\": {\"unit\": \"mega-pixel\", \"value\": 72.0}}}}</script>\n",
       "    </openeo-job>\n",
       "    "
      ],
      "text/plain": [
       "<BatchJob job_id='j-231103ffc9304993bd56446921e88290'>"
      ]
     },
     "execution_count": 101,
     "metadata": {},
     "output_type": "execute_result"
    }
   ],
   "source": [
    "x.execute_batch()"
   ]
  },
  {
   "cell_type": "code",
   "execution_count": null,
   "id": "bdeea35f-dce1-4abe-a743-8bd6f92c38bd",
   "metadata": {},
   "outputs": [],
   "source": []
  },
  {
   "cell_type": "code",
   "execution_count": 88,
   "id": "31219a3a-081b-4e2c-80f1-877c0f1645d9",
   "metadata": {},
   "outputs": [
    {
     "name": "stderr",
     "output_type": "stream",
     "text": [
      "Preflight process graph validation raised: [MissingProduct] Tile 'S2B_MSIL2A_20230702T105629_N0509_R094_T30TVK_20230702T122952' in collection 'SENTINEL2_L2A' is not available. [MissingProduct] Tile 'S2B_MSIL2A_20230705T110629_N0509_R137_T30TVK_20230705T123921' in collection 'SENTINEL2_L2A' is not available. [MissingProduct] Tile 'S2A_MSIL2A_20230707T105621_N0509_R094_T30TVK_20230707T171859' in collection 'SENTINEL2_L2A' is not available. [MissingProduct] Tile 'S2A_MSIL2A_20230710T110621_N0509_R137_T30TVK_20230710T172204' in collection 'SENTINEL2_L2A' is not available. [MissingProduct] Tile 'S2B_MSIL2A_20230712T105629_N0509_R094_T30TVK_20230712T123126' in collection 'SENTINEL2_L2A' is not available. [MissingProduct] Tile 'S2B_MSIL2A_20230715T110629_N0509_R137_T30TVK_20230715T124001' in collection 'SENTINEL2_L2A' is not available.\n"
     ]
    }
   ],
   "source": [
    "madrid_results = parsed.execute()"
   ]
  },
  {
   "cell_type": "code",
   "execution_count": null,
   "id": "208e1a1a-d60e-42dd-abe2-1659fe928747",
   "metadata": {},
   "outputs": [],
   "source": []
  },
  {
   "cell_type": "code",
   "execution_count": 89,
   "id": "8dd7a733-c552-4e2d-b400-ecd01deeeb46",
   "metadata": {},
   "outputs": [
    {
     "data": {
      "text/plain": [
       "{'2023-07-01T00:00:00Z': [[3487.606751654448, 3525.6488922465014]],\n",
       " '2023-07-04T00:00:00Z': [[4689.041479068917, 4747.299653754793]],\n",
       " '2023-07-06T00:00:00Z': [[294.2996304189796, 266.8675803482743]],\n",
       " '2023-07-09T00:00:00Z': [[2859.123396883836, 2827.095230087254]],\n",
       " '2023-07-11T00:00:00Z': [[443.6249245710865, 403.2478323118861]],\n",
       " '2023-07-14T00:00:00Z': [[6166.877248330871, 6003.755467915797]]}"
      ]
     },
     "execution_count": 89,
     "metadata": {},
     "output_type": "execute_result"
    }
   ],
   "source": [
    "madrid_results"
   ]
  },
  {
   "cell_type": "code",
   "execution_count": 92,
   "id": "130e0df0-c257-44c0-a05a-39816931babc",
   "metadata": {},
   "outputs": [
    {
     "data": {
      "text/plain": [
       "\u001b[0;31mSignature:\u001b[0m\n",
       "\u001b[0mcube\u001b[0m\u001b[0;34m.\u001b[0m\u001b[0maggregate_spatial\u001b[0m\u001b[0;34m(\u001b[0m\u001b[0;34m\u001b[0m\n",
       "\u001b[0;34m\u001b[0m    \u001b[0mgeometries\u001b[0m\u001b[0;34m:\u001b[0m \u001b[0;34m'Union[shapely.geometry.base.BaseGeometry, dict, str, pathlib.Path, Parameter, VectorCube]'\u001b[0m\u001b[0;34m,\u001b[0m\u001b[0;34m\u001b[0m\n",
       "\u001b[0;34m\u001b[0m    \u001b[0mreducer\u001b[0m\u001b[0;34m:\u001b[0m \u001b[0;34m'Union[str, typing.Callable, PGNode]'\u001b[0m\u001b[0;34m,\u001b[0m\u001b[0;34m\u001b[0m\n",
       "\u001b[0;34m\u001b[0m    \u001b[0mtarget_dimension\u001b[0m\u001b[0;34m:\u001b[0m \u001b[0;34m'Optional[str]'\u001b[0m \u001b[0;34m=\u001b[0m \u001b[0;32mNone\u001b[0m\u001b[0;34m,\u001b[0m\u001b[0;34m\u001b[0m\n",
       "\u001b[0;34m\u001b[0m    \u001b[0mcrs\u001b[0m\u001b[0;34m:\u001b[0m \u001b[0;34m'Optional[Union[int, str]]'\u001b[0m \u001b[0;34m=\u001b[0m \u001b[0;32mNone\u001b[0m\u001b[0;34m,\u001b[0m\u001b[0;34m\u001b[0m\n",
       "\u001b[0;34m\u001b[0m    \u001b[0mcontext\u001b[0m\u001b[0;34m:\u001b[0m \u001b[0;34m'Optional[dict]'\u001b[0m \u001b[0;34m=\u001b[0m \u001b[0;32mNone\u001b[0m\u001b[0;34m,\u001b[0m\u001b[0;34m\u001b[0m\n",
       "\u001b[0;34m\u001b[0m\u001b[0;34m)\u001b[0m \u001b[0;34m->\u001b[0m \u001b[0;34m'VectorCube'\u001b[0m\u001b[0;34m\u001b[0m\u001b[0;34m\u001b[0m\u001b[0m\n",
       "\u001b[0;31mDocstring:\u001b[0m\n",
       "Aggregates statistics for one or more geometries (e.g. zonal statistics for polygons)\n",
       "over the spatial dimensions.\n",
       "\n",
       ":param geometries: a shapely geometry, a GeoJSON-style dictionary,\n",
       "    a public GeoJSON URL, or a path (that is valid for the back-end) to a GeoJSON file.\n",
       ":param reducer: the \"child callback\":\n",
       "    the name of a single openEO process,\n",
       "    or a callback function as discussed in :ref:`callbackfunctions`,\n",
       "    or a :py:class:`UDF <openeo.rest._datacube.UDF>` instance.\n",
       "\n",
       "    The callback should correspond to a process that\n",
       "    receives an array of numerical values\n",
       "    and returns a single numerical value.\n",
       "    For example:\n",
       "\n",
       "    -   ``\"mean\"`` (string)\n",
       "    -   :py:func:`absolute <openeo.processes.max>` (:ref:`predefined openEO process function <openeo_processes_functions>`)\n",
       "    -   ``lambda data: data.min()`` (function or lambda)\n",
       "\n",
       ":param target_dimension: The new dimension name to be used for storing the results.\n",
       ":param crs: The spatial reference system of the provided polygon.\n",
       "    By default, longitude-latitude (EPSG:4326) is assumed.\n",
       "    See :py:func:`openeo.util.normalize_crs` for more details about additional normalization that is applied to this argument.\n",
       "\n",
       ":param context: Additional data to be passed to the reducer process.\n",
       "\n",
       "    .. note:: this ``crs`` argument is a non-standard/experimental feature, only supported by specific back-ends.\n",
       "        See https://github.com/Open-EO/openeo-processes/issues/235 for details.\n",
       "\n",
       "\n",
       ".. seealso:: openeo.org documentation on `process \"aggregate_spatial\" <https://processes.openeo.org/#aggregate_spatial>`_.\n",
       "\u001b[0;31mFile:\u001b[0m      ~/Projects/hackathon-2023/venv/lib/python3.10/site-packages/openeo/rest/datacube.py\n",
       "\u001b[0;31mType:\u001b[0m      method"
      ]
     },
     "metadata": {},
     "output_type": "display_data"
    }
   ],
   "source": [
    "cube.aggregate_spatial?"
   ]
  },
  {
   "cell_type": "code",
   "execution_count": null,
   "id": "92d65181-64fe-4859-ad18-d20bec67973b",
   "metadata": {},
   "outputs": [],
   "source": [
    "plt.imshow(np.moveaxis(img, [0, 1, 2], [2, 0, 1]) / img.max())"
   ]
  },
  {
   "cell_type": "code",
   "execution_count": null,
   "id": "7b5b7864-2157-4668-8413-aa2101e826e5",
   "metadata": {},
   "outputs": [],
   "source": []
  }
 ],
 "metadata": {
  "kernelspec": {
   "display_name": "Python 3 (ipykernel)",
   "language": "python",
   "name": "python3"
  },
  "language_info": {
   "codemirror_mode": {
    "name": "ipython",
    "version": 3
   },
   "file_extension": ".py",
   "mimetype": "text/x-python",
   "name": "python",
   "nbconvert_exporter": "python",
   "pygments_lexer": "ipython3",
   "version": "3.10.0"
  }
 },
 "nbformat": 4,
 "nbformat_minor": 5
}
